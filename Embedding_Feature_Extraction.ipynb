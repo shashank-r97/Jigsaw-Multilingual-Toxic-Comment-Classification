{
  "nbformat": 4,
  "nbformat_minor": 0,
  "metadata": {
    "colab": {
      "name": "Embedding Feature Extraction.ipynb",
      "provenance": [],
      "mount_file_id": "1ASP2HMXcQkEt7HWTH1qR4V2kLXbBamYy",
      "authorship_tag": "ABX9TyO3SrOzssZkDVnt1LZybkqT"
    },
    "kernelspec": {
      "name": "python3",
      "display_name": "Python 3"
    },
    "accelerator": "GPU"
  },
  "cells": [
    {
      "cell_type": "code",
      "metadata": {
        "id": "ncOlesG3Wejx",
        "colab_type": "code",
        "colab": {}
      },
      "source": [
        "#!pip install transformers"
      ],
      "execution_count": 0,
      "outputs": []
    },
    {
      "cell_type": "code",
      "metadata": {
        "id": "Jh7PpLBtXmZ0",
        "colab_type": "code",
        "colab": {
          "base_uri": "https://localhost:8080/",
          "height": 35
        },
        "outputId": "f966cb10-2bd0-4e0a-c9cd-23f0d57c3acd"
      },
      "source": [
        "import numpy as np\n",
        "import pandas as pd\n",
        "from tqdm import tqdm\n",
        "import tensorflow as tf\n",
        "from keras.preprocessing.sequence import pad_sequences\n",
        "import transformers \n",
        "import warnings\n",
        "warnings.filterwarnings('ignore')"
      ],
      "execution_count": 2,
      "outputs": [
        {
          "output_type": "stream",
          "text": [
            "Using TensorFlow backend.\n"
          ],
          "name": "stderr"
        }
      ]
    },
    {
      "cell_type": "code",
      "metadata": {
        "id": "xFk3p5sDWj5q",
        "colab_type": "code",
        "colab": {}
      },
      "source": [
        "df = pd.read_csv('/content/drive/My Drive/Data/Jigsaw Multilingual Toxic Comment Classification/jigsaw-toxic-comment-train.csv')"
      ],
      "execution_count": 0,
      "outputs": []
    },
    {
      "cell_type": "code",
      "metadata": {
        "id": "zbwNrp4RWr0U",
        "colab_type": "code",
        "colab": {
          "base_uri": "https://localhost:8080/",
          "height": 206
        },
        "outputId": "0add574f-f469-4f99-9e5e-4a28942f7692"
      },
      "source": [
        "df.head()"
      ],
      "execution_count": 4,
      "outputs": [
        {
          "output_type": "execute_result",
          "data": {
            "text/html": [
              "<div>\n",
              "<style scoped>\n",
              "    .dataframe tbody tr th:only-of-type {\n",
              "        vertical-align: middle;\n",
              "    }\n",
              "\n",
              "    .dataframe tbody tr th {\n",
              "        vertical-align: top;\n",
              "    }\n",
              "\n",
              "    .dataframe thead th {\n",
              "        text-align: right;\n",
              "    }\n",
              "</style>\n",
              "<table border=\"1\" class=\"dataframe\">\n",
              "  <thead>\n",
              "    <tr style=\"text-align: right;\">\n",
              "      <th></th>\n",
              "      <th>id</th>\n",
              "      <th>comment_text</th>\n",
              "      <th>toxic</th>\n",
              "      <th>severe_toxic</th>\n",
              "      <th>obscene</th>\n",
              "      <th>threat</th>\n",
              "      <th>insult</th>\n",
              "      <th>identity_hate</th>\n",
              "    </tr>\n",
              "  </thead>\n",
              "  <tbody>\n",
              "    <tr>\n",
              "      <th>0</th>\n",
              "      <td>0000997932d777bf</td>\n",
              "      <td>Explanation\\nWhy the edits made under my usern...</td>\n",
              "      <td>0</td>\n",
              "      <td>0</td>\n",
              "      <td>0</td>\n",
              "      <td>0</td>\n",
              "      <td>0</td>\n",
              "      <td>0</td>\n",
              "    </tr>\n",
              "    <tr>\n",
              "      <th>1</th>\n",
              "      <td>000103f0d9cfb60f</td>\n",
              "      <td>D'aww! He matches this background colour I'm s...</td>\n",
              "      <td>0</td>\n",
              "      <td>0</td>\n",
              "      <td>0</td>\n",
              "      <td>0</td>\n",
              "      <td>0</td>\n",
              "      <td>0</td>\n",
              "    </tr>\n",
              "    <tr>\n",
              "      <th>2</th>\n",
              "      <td>000113f07ec002fd</td>\n",
              "      <td>Hey man, I'm really not trying to edit war. It...</td>\n",
              "      <td>0</td>\n",
              "      <td>0</td>\n",
              "      <td>0</td>\n",
              "      <td>0</td>\n",
              "      <td>0</td>\n",
              "      <td>0</td>\n",
              "    </tr>\n",
              "    <tr>\n",
              "      <th>3</th>\n",
              "      <td>0001b41b1c6bb37e</td>\n",
              "      <td>\"\\nMore\\nI can't make any real suggestions on ...</td>\n",
              "      <td>0</td>\n",
              "      <td>0</td>\n",
              "      <td>0</td>\n",
              "      <td>0</td>\n",
              "      <td>0</td>\n",
              "      <td>0</td>\n",
              "    </tr>\n",
              "    <tr>\n",
              "      <th>4</th>\n",
              "      <td>0001d958c54c6e35</td>\n",
              "      <td>You, sir, are my hero. Any chance you remember...</td>\n",
              "      <td>0</td>\n",
              "      <td>0</td>\n",
              "      <td>0</td>\n",
              "      <td>0</td>\n",
              "      <td>0</td>\n",
              "      <td>0</td>\n",
              "    </tr>\n",
              "  </tbody>\n",
              "</table>\n",
              "</div>"
            ],
            "text/plain": [
              "                 id  ... identity_hate\n",
              "0  0000997932d777bf  ...             0\n",
              "1  000103f0d9cfb60f  ...             0\n",
              "2  000113f07ec002fd  ...             0\n",
              "3  0001b41b1c6bb37e  ...             0\n",
              "4  0001d958c54c6e35  ...             0\n",
              "\n",
              "[5 rows x 8 columns]"
            ]
          },
          "metadata": {
            "tags": []
          },
          "execution_count": 4
        }
      ]
    },
    {
      "cell_type": "code",
      "metadata": {
        "id": "XsRb6r_NbLH-",
        "colab_type": "code",
        "colab": {}
      },
      "source": [
        "def extract_embeddings(embedding):\n",
        "    ##Function gets embedding from data based on the embedding model passed.\n",
        "    print(f\"{embedding} embedding:\")\n",
        "    ##Reads data file.\n",
        "    df = pd.read_csv('/content/drive/My Drive/Data/Jigsaw Multilingual Toxic Comment Classification/jigsaw-toxic-comment-train.csv')\n",
        "    ##Loads and defines embedding tokenizer and model.\n",
        "    model_class, tokenizer_class, pretrained_weights = (transformers.TFAutoModel, transformers.AutoTokenizer, embedding)\n",
        "    tokenizer = tokenizer_class.from_pretrained(pretrained_weights)\n",
        "    model = model_class.from_pretrained(pretrained_weights)\n",
        "    \n",
        "    def get_features(text, step):\n",
        "        ##Function gets embedded features from text, for \"step\" rows at a time.\n",
        "        features = []\n",
        "        for i in tqdm(range(0, len(text), step)):\n",
        "            end = i + step\n",
        "            if len(text) - i < step:\n",
        "                end = len(text)\n",
        "            \n",
        "            tokenized = np.asarray([tokenizer.encode(x, add_special_tokens=True, max_length = 128) for x in text[i:end]])\n",
        "\n",
        "            max_len = max([len(x) for x in tokenized])\n",
        "            input_ids = pad_sequences(tokenized, maxlen = max_len, padding = 'post')\n",
        "            attention_mask = np.where(input_ids != 0, 1, 0)\n",
        "            input_ids = tf.constant(input_ids)\n",
        "            attention_mask = tf.constant(attention_mask)\n",
        "\n",
        "            \n",
        "            last_hidden_states = model(input_ids, attention_mask=attention_mask)\n",
        "\n",
        "            features.extend(last_hidden_states[0][:,0,:].numpy().tolist())\n",
        "        return features\n",
        "    ##Gets features from title, descripton and a concatenation of title and description.\n",
        "    df[f'comment_text_{embedding}_features'] = get_features(df['comment_text'], 500)\n",
        "    \n",
        "    ##Print the size of the embedding feature vectors for debuging.\n",
        "    print(f\"Embedding size: {df[f'comment_text_{embedding}_features'].apply(lambda x: len(x)).unique()}\")\n",
        "\n",
        "    embedding = embedding.split('/')[-1]\n",
        "    ##Save data with feature vectors to file for next steps.\n",
        "    df.to_csv(f'/content/drive/My Drive/Data/Jigsaw Multilingual Toxic Comment Classification/jigsaw-toxic-comment-train-{embedding}_feautres.csv', index = False)\n",
        "    print(f\"{embedding} has been written to file: {embedding}_feautres.csv\")"
      ],
      "execution_count": 0,
      "outputs": []
    },
    {
      "cell_type": "code",
      "metadata": {
        "id": "KTB4600KbSeH",
        "colab_type": "code",
        "colab": {
          "base_uri": "https://localhost:8080/",
          "height": 53
        },
        "outputId": "a7c4323a-2e84-4a38-edef-12fd309d1eb0"
      },
      "source": [
        "%%time\n",
        "embeddings = ['bert-base-uncased', 'airKlizz/t5-base-multi-en-wiki-news', 'airKlizz/bart-large-multi-en-wiki-news',\n",
        "              'xlm-mlm-tlm-xnli15-1024', 'xlm-roberta-base']\n",
        "for embedding in embeddings:\n",
        "    extract_embeddings(embedding)"
      ],
      "execution_count": 0,
      "outputs": [
        {
          "output_type": "stream",
          "text": [
            "bert-base-uncased embedding:\n"
          ],
          "name": "stdout"
        },
        {
          "output_type": "stream",
          "text": [
            "  6%|▋         | 29/448 [01:20<19:35,  2.81s/it]"
          ],
          "name": "stderr"
        }
      ]
    }
  ]
}